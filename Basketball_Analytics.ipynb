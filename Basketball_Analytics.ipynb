{
 "cells": [
  {
   "cell_type": "markdown",
   "metadata": {},
   "source": [
    "### Import Basketball Reference Scraper"
   ]
  },
  {
   "cell_type": "code",
   "execution_count": 1,
   "metadata": {},
   "outputs": [],
   "source": [
    "from basketball_reference_scraper.teams import get_roster, get_team_stats, get_opp_stats, get_roster_stats, get_team_misc"
   ]
  },
  {
   "cell_type": "markdown",
   "metadata": {},
   "source": [
    "### Import libraries"
   ]
  },
  {
   "cell_type": "code",
   "execution_count": 2,
   "metadata": {},
   "outputs": [],
   "source": [
    "from basketball_reference_scraper.players import get_stats, get_game_logs\n",
    "from statistics import mean"
   ]
  },
  {
   "cell_type": "markdown",
   "metadata": {},
   "source": [
    "### Get a single player stats (per game)"
   ]
  },
  {
   "cell_type": "code",
   "execution_count": 15,
   "metadata": {},
   "outputs": [
    {
     "name": "stdout",
     "output_type": "stream",
     "text": [
      "You searched for \"James Harden\"\n",
      "11 results found.\n",
      "0: James Harden\n",
      "1: James Hardy\n",
      "2: James Bailey\n",
      "3: Jimmy Darden\n",
      "4: Jared Harper\n",
      "5: James Edwards\n",
      "6: James Lang\n",
      "7: James Phelan\n",
      "8: James Ennis\n",
      "9: Jaylen Hoard\n",
      "10: James Thomas\n",
      "Pick one: 0\n",
      "Results for James Harden:\n",
      "\n",
      "     SEASON   AGE TEAM LEAGUE    POS     G    GS    MP    FG   FGA  ...  \\\n",
      "0   2009-10  20.0  OKC    NBA     SG  76.0   0.0  22.9   3.1   7.6  ...   \n",
      "1   2010-11  21.0  OKC    NBA     SG  82.0   5.0  26.7   3.6   8.3  ...   \n",
      "2   2011-12  22.0  OKC    NBA     SG  62.0   2.0  31.4   5.0  10.1  ...   \n",
      "3   2012-13  23.0  HOU    NBA     SG  78.0  78.0  38.3   7.5  17.1  ...   \n",
      "4   2013-14  24.0  HOU    NBA     SG  73.0  73.0  38.0   7.5  16.5  ...   \n",
      "5   2014-15  25.0  HOU    NBA     SG  81.0  81.0  36.8   8.0  18.1  ...   \n",
      "6   2015-16  26.0  HOU    NBA     SG  82.0  82.0  38.1   8.7  19.7  ...   \n",
      "7   2016-17  27.0  HOU    NBA     PG  81.0  81.0  36.4   8.3  18.9  ...   \n",
      "8   2017-18  28.0  HOU    NBA     SG  72.0  72.0  35.4   9.0  20.1  ...   \n",
      "9   2018-19  29.0  HOU    NBA     PG  78.0  78.0  36.8  10.8  24.5  ...   \n",
      "10  2019-20  30.0  HOU    NBA     SG  68.0  68.0  36.5   9.9  22.3  ...   \n",
      "11  2020-21  31.0  TOT    NBA  PG,SG  44.0  43.0  36.6   7.8  16.7  ...   \n",
      "12  2020-21  31.0  HOU    NBA     SG   8.0   8.0  36.3   7.5  16.9  ...   \n",
      "13  2020-21  31.0  BRK    NBA     PG  36.0  35.0  36.6   7.8  16.6  ...   \n",
      "\n",
      "      FT%  ORB  DRB  TRB   AST  STL  BLK  TOV   PF   PTS  \n",
      "0   0.808  0.6  2.6  3.2   1.8  1.1  0.3  1.4  2.6   9.9  \n",
      "1   0.843  0.5  2.6  3.1   2.1  1.1  0.3  1.3  2.5  12.2  \n",
      "2   0.846  0.5  3.6  4.1   3.7  1.0  0.2  2.2  2.4  16.8  \n",
      "3   0.851  0.8  4.1  4.9   5.8  1.8  0.5  3.8  2.3  25.9  \n",
      "4   0.866  0.8  3.9  4.7   6.1  1.6  0.4  3.6  2.4  25.4  \n",
      "5   0.868  0.9  4.7  5.7   7.0  1.9  0.7  4.0  2.6  27.4  \n",
      "6   0.860  0.8  5.3  6.1   7.5  1.7  0.6  4.6  2.8  29.0  \n",
      "7   0.847  1.2  7.0  8.1  11.2  1.5  0.5  5.7  2.7  29.1  \n",
      "8   0.858  0.6  4.8  5.4   8.8  1.8  0.7  4.4  2.3  30.4  \n",
      "9   0.879  0.8  5.8  6.6   7.5  2.0  0.7  5.0  3.1  36.1  \n",
      "10  0.865  1.0  5.5  6.6   7.5  1.8  0.9  4.5  3.3  34.3  \n",
      "11  0.861  0.8  7.1  7.9  10.8  1.2  0.8  4.0  2.3  24.6  \n",
      "12  0.883  0.6  4.5  5.1  10.4  0.9  0.8  4.3  1.8  24.8  \n",
      "13  0.856  0.8  7.7  8.5  10.9  1.3  0.8  4.0  2.4  24.6  \n",
      "\n",
      "[14 rows x 30 columns]\n"
     ]
    }
   ],
   "source": [
    "playerStats = get_stats('James Harden', stat_type='PER_GAME', playoffs=False, career=False)\n",
    "print(playerStats)"
   ]
  },
  {
   "cell_type": "markdown",
   "metadata": {},
   "source": [
    "### Get Points data for the MVPs of the last 10 seasons"
   ]
  },
  {
   "cell_type": "code",
   "execution_count": 10,
   "metadata": {},
   "outputs": [
    {
     "name": "stdout",
     "output_type": "stream",
     "text": [
      "You searched for \"Nikola Jokic\"\n",
      "3 results found.\n",
      "0: Nikola Jokic\n",
      "1: Nikola Mirotic\n",
      "2: Nikola Pekovic\n",
      "Pick one: 0\n",
      "Results for Nikola Jokic:\n",
      "\n",
      "You searched for \"Giannis Antetokounmpo\"\n",
      "2 results found.\n",
      "0: Giannis Antetokounmpo\n",
      "1: Thanasis Antetokounmpo\n",
      "Pick one: 0\n",
      "Results for Giannis Antetokounmpo:\n",
      "\n",
      "You searched for \"James Harden\"\n",
      "11 results found.\n",
      "0: James Harden\n",
      "1: James Hardy\n",
      "2: James Bailey\n",
      "3: Jimmy Darden\n",
      "4: Jared Harper\n",
      "5: James Edwards\n",
      "6: James Lang\n",
      "7: James Phelan\n",
      "8: James Ennis\n",
      "9: Jaylen Hoard\n",
      "10: James Thomas\n",
      "Pick one: 0\n",
      "Results for James Harden:\n",
      "\n",
      "You searched for \"Russell Westbrook\"\n",
      "1 result found.\n",
      "Russell Westbrook\n",
      "Results for Russell Westbrook:\n",
      "\n",
      "You searched for \"Stephen Curry\"\n",
      "3 results found.\n",
      "0: Stephen Curry\n",
      "1: Stephen Chubin\n",
      "2: Seth Curry\n",
      "Pick one: 0\n",
      "Results for Stephen Curry:\n",
      "\n",
      "You searched for \"Kevin Durant\"\n",
      "5 results found.\n",
      "0: Kevin Durant\n",
      "1: Devin Durrant\n",
      "2: Kevin Murphy\n",
      "3: Ken Durrett\n",
      "4: Kevin Martin\n",
      "Pick one: 0\n",
      "Results for Kevin Durant:\n",
      "\n",
      "You searched for \"LeBron James\"\n",
      "5 results found.\n",
      "0: LeBron James\n",
      "1: Aaron James\n",
      "2: Damion James\n",
      "3: Henry James\n",
      "4: Jerome James\n",
      "Pick one: 0\n",
      "Results for LeBron James:\n",
      "\n"
     ]
    }
   ],
   "source": [
    "Last10YearsMVPs = ['Nikola Jokic','Giannis Antetokounmpo', 'James Harden', 'Russell Westbrook', 'Stephen Curry', 'Kevin Durant', 'LeBron James']\n",
    "Last10YearsMVPsAvgPoints=[]\n",
    "for eachMVP in Last10YearsMVPs:\n",
    "    playerStats = get_stats(eachMVP, stat_type='PER_GAME', playoffs=False, career=False)\n",
    "    count = 0\n",
    "    eachMVPPointsList = []\n",
    "    for index,row in playerStats[::-1].iterrows():\n",
    "        if(count<=9):\n",
    "            count+=1\n",
    "            if row['PTS']!='Did Not Play\\xa0(injury—achilles)':\n",
    "                eachMVPPointsList.append(float(row['PTS']))\n",
    "    Last10YearsMVPsAvgPoints.append({'player':eachMVP, 'average points':mean(eachMVPPointsList)})"
   ]
  },
  {
   "cell_type": "code",
   "execution_count": 11,
   "metadata": {},
   "outputs": [
    {
     "data": {
      "text/plain": [
       "[{'player': 'Nikola Jokic', 'average points': 18.6},\n",
       " {'player': 'Giannis Antetokounmpo', 'average points': 21.4375},\n",
       " {'player': 'James Harden', 'average points': 28.57},\n",
       " {'player': 'Russell Westbrook', 'average points': 24.95},\n",
       " {'player': 'Stephen Curry', 'average points': 24.73},\n",
       " {'player': 'Kevin Durant', 'average points': 27.344444444444445},\n",
       " {'player': 'LeBron James', 'average points': 26.32}]"
      ]
     },
     "execution_count": 11,
     "metadata": {},
     "output_type": "execute_result"
    }
   ],
   "source": [
    "Last10YearsMVPsAvgPoints"
   ]
  },
  {
   "cell_type": "code",
   "execution_count": 29,
   "metadata": {},
   "outputs": [
    {
     "name": "stdout",
     "output_type": "stream",
     "text": [
      "                  player  average points\n",
      "0           Nikola Jokic       18.600000\n",
      "1  Giannis Antetokounmpo       21.437500\n",
      "2           James Harden       28.570000\n",
      "3      Russell Westbrook       24.950000\n",
      "4          Stephen Curry       24.730000\n",
      "5           Kevin Durant       27.344444\n",
      "6           LeBron James       26.320000\n"
     ]
    }
   ],
   "source": [
    "import pandas as pd\n",
    "dfPoints = pd.DataFrame(Last10YearsMVPsAvgPoints)\n",
    "print(dfPoints)"
   ]
  },
  {
   "cell_type": "markdown",
   "metadata": {},
   "source": [
    "### Get Rebounds data for the MVPs of the last 10 seasons"
   ]
  },
  {
   "cell_type": "code",
   "execution_count": 14,
   "metadata": {},
   "outputs": [
    {
     "name": "stdout",
     "output_type": "stream",
     "text": [
      "You searched for \"Nikola Jokic\"\n",
      "3 results found.\n",
      "0: Nikola Jokic\n",
      "1: Nikola Mirotic\n",
      "2: Nikola Pekovic\n",
      "Pick one: 0\n",
      "Results for Nikola Jokic:\n",
      "\n",
      "You searched for \"Giannis Antetokounmpo\"\n",
      "2 results found.\n",
      "0: Giannis Antetokounmpo\n",
      "1: Thanasis Antetokounmpo\n",
      "Pick one: 0\n",
      "Results for Giannis Antetokounmpo:\n",
      "\n",
      "You searched for \"James Harden\"\n",
      "11 results found.\n",
      "0: James Harden\n",
      "1: James Hardy\n",
      "2: James Bailey\n",
      "3: Jimmy Darden\n",
      "4: Jared Harper\n",
      "5: James Edwards\n",
      "6: James Lang\n",
      "7: James Phelan\n",
      "8: James Ennis\n",
      "9: Jaylen Hoard\n",
      "10: James Thomas\n",
      "Pick one: 0\n",
      "Results for James Harden:\n",
      "\n",
      "You searched for \"Russell Westbrook\"\n",
      "1 result found.\n",
      "Russell Westbrook\n",
      "Results for Russell Westbrook:\n",
      "\n",
      "You searched for \"Stephen Curry\"\n",
      "3 results found.\n",
      "0: Stephen Curry\n",
      "1: Stephen Chubin\n",
      "2: Seth Curry\n",
      "Pick one: 0\n",
      "Results for Stephen Curry:\n",
      "\n",
      "You searched for \"Kevin Durant\"\n",
      "5 results found.\n",
      "0: Kevin Durant\n",
      "1: Devin Durrant\n",
      "2: Kevin Murphy\n",
      "3: Ken Durrett\n",
      "4: Kevin Martin\n",
      "Pick one: 0\n",
      "Results for Kevin Durant:\n",
      "\n",
      "You searched for \"LeBron James\"\n",
      "5 results found.\n",
      "0: LeBron James\n",
      "1: Aaron James\n",
      "2: Damion James\n",
      "3: Henry James\n",
      "4: Jerome James\n",
      "Pick one: 0\n",
      "Results for LeBron James:\n",
      "\n"
     ]
    }
   ],
   "source": [
    "Last10YearsMVPs = ['Nikola Jokic','Giannis Antetokounmpo', 'James Harden', 'Russell Westbrook', 'Stephen Curry', 'Kevin Durant', 'LeBron James']\n",
    "Last10YearsMVPsAvgRebounds=[]\n",
    "for eachMVP in Last10YearsMVPs:\n",
    "    playerStats = get_stats(eachMVP, stat_type='PER_GAME', playoffs=False, career=False)\n",
    "    count = 0\n",
    "    eachMVPReboundsList = []\n",
    "    for index,row in playerStats[::-1].iterrows():\n",
    "        if(count<=9):\n",
    "            count+=1\n",
    "            if row['PTS']!='Did Not Play\\xa0(injury—achilles)':\n",
    "                eachMVPReboundsList.append(float(row['TRB']))\n",
    "    Last10YearsMVPsAvgRebounds.append({'player':eachMVP,'average rebounds': mean(eachMVPReboundsList)})"
   ]
  },
  {
   "cell_type": "code",
   "execution_count": 15,
   "metadata": {},
   "outputs": [
    {
     "data": {
      "text/plain": [
       "[{'player': 'Nikola Jokic', 'average rebounds': 9.8},\n",
       " {'player': 'Giannis Antetokounmpo', 'average rebounds': 9.3375},\n",
       " {'player': 'James Harden', 'average rebounds': 6.47},\n",
       " {'player': 'Russell Westbrook', 'average rebounds': 8.19},\n",
       " {'player': 'Stephen Curry', 'average rebounds': 4.7},\n",
       " {'player': 'Kevin Durant', 'average rebounds': 7.411111111111111},\n",
       " {'player': 'LeBron James', 'average rebounds': 7.74}]"
      ]
     },
     "execution_count": 15,
     "metadata": {},
     "output_type": "execute_result"
    }
   ],
   "source": [
    "Last10YearsMVPsAvgRebounds"
   ]
  },
  {
   "cell_type": "code",
   "execution_count": 30,
   "metadata": {},
   "outputs": [
    {
     "name": "stdout",
     "output_type": "stream",
     "text": [
      "                  player  average rebounds\n",
      "0           Nikola Jokic          9.800000\n",
      "1  Giannis Antetokounmpo          9.337500\n",
      "2           James Harden          6.470000\n",
      "3      Russell Westbrook          8.190000\n",
      "4          Stephen Curry          4.700000\n",
      "5           Kevin Durant          7.411111\n",
      "6           LeBron James          7.740000\n"
     ]
    }
   ],
   "source": [
    "import pandas as pd\n",
    "dfRebounds = pd.DataFrame(Last10YearsMVPsAvgRebounds)\n",
    "print(dfRebounds)"
   ]
  },
  {
   "cell_type": "markdown",
   "metadata": {},
   "source": [
    "### Get Assists data for the MVPs of the last 10 seasons"
   ]
  },
  {
   "cell_type": "code",
   "execution_count": 16,
   "metadata": {},
   "outputs": [
    {
     "name": "stdout",
     "output_type": "stream",
     "text": [
      "You searched for \"Nikola Jokic\"\n",
      "3 results found.\n",
      "0: Nikola Jokic\n",
      "1: Nikola Mirotic\n",
      "2: Nikola Pekovic\n",
      "Pick one: 0\n",
      "Results for Nikola Jokic:\n",
      "\n",
      "You searched for \"Giannis Antetokounmpo\"\n",
      "2 results found.\n",
      "0: Giannis Antetokounmpo\n",
      "1: Thanasis Antetokounmpo\n",
      "Pick one: 0\n",
      "Results for Giannis Antetokounmpo:\n",
      "\n",
      "You searched for \"James Harden\"\n",
      "11 results found.\n",
      "0: James Harden\n",
      "1: James Hardy\n",
      "2: James Bailey\n",
      "3: Jimmy Darden\n",
      "4: Jared Harper\n",
      "5: James Edwards\n",
      "6: James Lang\n",
      "7: James Phelan\n",
      "8: James Ennis\n",
      "9: Jaylen Hoard\n",
      "10: James Thomas\n",
      "Pick one: 0\n",
      "Results for James Harden:\n",
      "\n",
      "You searched for \"Russell Westbrook\"\n",
      "1 result found.\n",
      "Russell Westbrook\n",
      "Results for Russell Westbrook:\n",
      "\n",
      "You searched for \"Stephen Curry\"\n",
      "3 results found.\n",
      "0: Stephen Curry\n",
      "1: Stephen Chubin\n",
      "2: Seth Curry\n",
      "Pick one: 0\n",
      "Results for Stephen Curry:\n",
      "\n",
      "You searched for \"Kevin Durant\"\n",
      "5 results found.\n",
      "0: Kevin Durant\n",
      "1: Devin Durrant\n",
      "2: Kevin Murphy\n",
      "3: Ken Durrett\n",
      "4: Kevin Martin\n",
      "Pick one: 0\n",
      "Results for Kevin Durant:\n",
      "\n",
      "You searched for \"LeBron James\"\n",
      "5 results found.\n",
      "0: LeBron James\n",
      "1: Aaron James\n",
      "2: Damion James\n",
      "3: Henry James\n",
      "4: Jerome James\n",
      "Pick one: 0\n",
      "Results for LeBron James:\n",
      "\n"
     ]
    }
   ],
   "source": [
    "Last10YearsMVPs = ['Nikola Jokic','Giannis Antetokounmpo', 'James Harden', 'Russell Westbrook', 'Stephen Curry', 'Kevin Durant', 'LeBron James']\n",
    "Last10YearsMVPsAvgAssists=[]\n",
    "for eachMVP in Last10YearsMVPs:\n",
    "    playerStats = get_stats(eachMVP, stat_type='PER_GAME', playoffs=False, career=False)\n",
    "    count = 0\n",
    "    eachMVPAssistsList = []\n",
    "    for index,row in playerStats[::-1].iterrows():\n",
    "        if(count<=9):\n",
    "            count+=1\n",
    "            if row['PTS']!='Did Not Play\\xa0(injury—achilles)':\n",
    "                eachMVPAssistsList.append(float(row['AST']))\n",
    "    Last10YearsMVPsAvgAssists.append({'player':eachMVP,'average assists':mean(eachMVPAssistsList)})"
   ]
  },
  {
   "cell_type": "code",
   "execution_count": 17,
   "metadata": {},
   "outputs": [
    {
     "data": {
      "text/plain": [
       "[{'player': 'Nikola Jokic', 'average assists': 6.0},\n",
       " {'player': 'Giannis Antetokounmpo', 'average assists': 4.55},\n",
       " {'player': 'James Harden', 'average assists': 8.77},\n",
       " {'player': 'Russell Westbrook', 'average assists': 8.89},\n",
       " {'player': 'Stephen Curry', 'average assists': 6.54},\n",
       " {'player': 'Kevin Durant', 'average assists': 4.933333333333334},\n",
       " {'player': 'LeBron James', 'average assists': 7.81}]"
      ]
     },
     "execution_count": 17,
     "metadata": {},
     "output_type": "execute_result"
    }
   ],
   "source": [
    "Last10YearsMVPsAvgAssists"
   ]
  },
  {
   "cell_type": "code",
   "execution_count": 24,
   "metadata": {},
   "outputs": [
    {
     "name": "stdout",
     "output_type": "stream",
     "text": [
      "                  player  average assists\n",
      "0           Nikola Jokic         6.000000\n",
      "1  Giannis Antetokounmpo         4.550000\n",
      "2           James Harden         8.770000\n",
      "3      Russell Westbrook         8.890000\n",
      "4          Stephen Curry         6.540000\n",
      "5           Kevin Durant         4.933333\n",
      "6           LeBron James         7.810000\n"
     ]
    }
   ],
   "source": [
    "import pandas as pd\n",
    "dfAssists = pd.DataFrame(Last10YearsMVPsAvgAssists)\n",
    "print(dfAssists)"
   ]
  },
  {
   "cell_type": "code",
   "execution_count": 32,
   "metadata": {},
   "outputs": [
    {
     "data": {
      "text/html": [
       "<div>\n",
       "<style scoped>\n",
       "    .dataframe tbody tr th:only-of-type {\n",
       "        vertical-align: middle;\n",
       "    }\n",
       "\n",
       "    .dataframe tbody tr th {\n",
       "        vertical-align: top;\n",
       "    }\n",
       "\n",
       "    .dataframe thead th {\n",
       "        text-align: right;\n",
       "    }\n",
       "</style>\n",
       "<table border=\"1\" class=\"dataframe\">\n",
       "  <thead>\n",
       "    <tr style=\"text-align: right;\">\n",
       "      <th></th>\n",
       "      <th>player</th>\n",
       "      <th>average points</th>\n",
       "      <th>average rebounds</th>\n",
       "      <th>average assists</th>\n",
       "    </tr>\n",
       "  </thead>\n",
       "  <tbody>\n",
       "    <tr>\n",
       "      <th>0</th>\n",
       "      <td>Nikola Jokic</td>\n",
       "      <td>18.600000</td>\n",
       "      <td>9.800000</td>\n",
       "      <td>6.000000</td>\n",
       "    </tr>\n",
       "    <tr>\n",
       "      <th>1</th>\n",
       "      <td>Giannis Antetokounmpo</td>\n",
       "      <td>21.437500</td>\n",
       "      <td>9.337500</td>\n",
       "      <td>4.550000</td>\n",
       "    </tr>\n",
       "    <tr>\n",
       "      <th>2</th>\n",
       "      <td>James Harden</td>\n",
       "      <td>28.570000</td>\n",
       "      <td>6.470000</td>\n",
       "      <td>8.770000</td>\n",
       "    </tr>\n",
       "    <tr>\n",
       "      <th>3</th>\n",
       "      <td>Russell Westbrook</td>\n",
       "      <td>24.950000</td>\n",
       "      <td>8.190000</td>\n",
       "      <td>8.890000</td>\n",
       "    </tr>\n",
       "    <tr>\n",
       "      <th>4</th>\n",
       "      <td>Stephen Curry</td>\n",
       "      <td>24.730000</td>\n",
       "      <td>4.700000</td>\n",
       "      <td>6.540000</td>\n",
       "    </tr>\n",
       "    <tr>\n",
       "      <th>5</th>\n",
       "      <td>Kevin Durant</td>\n",
       "      <td>27.344444</td>\n",
       "      <td>7.411111</td>\n",
       "      <td>4.933333</td>\n",
       "    </tr>\n",
       "    <tr>\n",
       "      <th>6</th>\n",
       "      <td>LeBron James</td>\n",
       "      <td>26.320000</td>\n",
       "      <td>7.740000</td>\n",
       "      <td>7.810000</td>\n",
       "    </tr>\n",
       "  </tbody>\n",
       "</table>\n",
       "</div>"
      ],
      "text/plain": [
       "                  player  average points  average rebounds  average assists\n",
       "0           Nikola Jokic       18.600000          9.800000         6.000000\n",
       "1  Giannis Antetokounmpo       21.437500          9.337500         4.550000\n",
       "2           James Harden       28.570000          6.470000         8.770000\n",
       "3      Russell Westbrook       24.950000          8.190000         8.890000\n",
       "4          Stephen Curry       24.730000          4.700000         6.540000\n",
       "5           Kevin Durant       27.344444          7.411111         4.933333\n",
       "6           LeBron James       26.320000          7.740000         7.810000"
      ]
     },
     "execution_count": 32,
     "metadata": {},
     "output_type": "execute_result"
    }
   ],
   "source": [
    "merged_df = pd.merge(dfPoints, dfRebounds, on=\"player\")\n",
    "#merged_df\n",
    "final_df = pd.merge(merged_df, dfAssists, on=\"player\")\n",
    "final_df"
   ]
  },
  {
   "cell_type": "markdown",
   "metadata": {},
   "source": [
    "### Plot the Average Points, Rebounds and Assists data for the MVPs of the last 10 seasons"
   ]
  },
  {
   "cell_type": "code",
   "execution_count": 49,
   "metadata": {},
   "outputs": [
    {
     "data": {
      "text/plain": [
       "<AxesSubplot:xlabel='player'>"
      ]
     },
     "execution_count": 49,
     "metadata": {},
     "output_type": "execute_result"
    },
    {
     "data": {
      "image/png": "[encoded data removed]",
      "text/plain": [
       "<Figure size 432x288 with 1 Axes>"
      ]
     },
     "metadata": {
      "needs_background": "light"
     },
     "output_type": "display_data"
    }
   ],
   "source": [
    "final_df.plot.bar(x='player')"
   ]
  },
  {
   "cell_type": "markdown",
   "metadata": {},
   "source": [
    "### Get Games played data for MVPs of the last 10 seasons"
   ]
  },
  {
   "cell_type": "code",
   "execution_count": 30,
   "metadata": {},
   "outputs": [
    {
     "name": "stdout",
     "output_type": "stream",
     "text": [
      "You searched for \"Nikola Jokic\"\n",
      "3 results found.\n",
      "0: Nikola Jokic\n",
      "1: Nikola Mirotic\n",
      "2: Nikola Pekovic\n",
      "Pick one: 0\n",
      "Results for Nikola Jokic:\n",
      "\n",
      "You searched for \"Giannis Antetokounmpo\"\n",
      "2 results found.\n",
      "0: Giannis Antetokounmpo\n",
      "1: Thanasis Antetokounmpo\n",
      "Pick one: 0\n",
      "Results for Giannis Antetokounmpo:\n",
      "\n",
      "You searched for \"James Harden\"\n",
      "11 results found.\n",
      "0: James Harden\n",
      "1: James Hardy\n",
      "2: James Bailey\n",
      "3: Jimmy Darden\n",
      "4: Jared Harper\n",
      "5: James Edwards\n",
      "6: James Lang\n",
      "7: James Phelan\n",
      "8: James Ennis\n",
      "9: Jaylen Hoard\n",
      "10: James Thomas\n",
      "Pick one: 0\n",
      "Results for James Harden:\n",
      "\n",
      "You searched for \"Russell Westbrook\"\n",
      "1 result found.\n",
      "Russell Westbrook\n",
      "Results for Russell Westbrook:\n",
      "\n",
      "You searched for \"Stephen Curry\"\n",
      "3 results found.\n",
      "0: Stephen Curry\n",
      "1: Stephen Chubin\n",
      "2: Seth Curry\n",
      "Pick one: 0\n",
      "Results for Stephen Curry:\n",
      "\n",
      "You searched for \"Kevin Durant\"\n",
      "5 results found.\n",
      "0: Kevin Durant\n",
      "1: Devin Durrant\n",
      "2: Kevin Murphy\n",
      "3: Ken Durrett\n",
      "4: Kevin Martin\n",
      "Pick one: 0\n",
      "Results for Kevin Durant:\n",
      "\n",
      "You searched for \"LeBron James\"\n",
      "5 results found.\n",
      "0: LeBron James\n",
      "1: Aaron James\n",
      "2: Damion James\n",
      "3: Henry James\n",
      "4: Jerome James\n",
      "Pick one: 0\n",
      "Results for LeBron James:\n",
      "\n"
     ]
    }
   ],
   "source": [
    "from basketball_reference_scraper.players import get_stats\n",
    "from statistics import mean\n",
    "\n",
    "\n",
    "\n",
    "Last10YearsMVPs = ['Nikola Jokic','Giannis Antetokounmpo', 'James Harden', 'Russell Westbrook', 'Stephen Curry', 'Kevin Durant', 'LeBron James']\n",
    "Last10YearsMVPsGamesPlayed=[]\n",
    "for eachMVP in Last10YearsMVPs:\n",
    "    playerStats = get_stats(eachMVP, stat_type='PER_GAME', playoffs=False, career=False)\n",
    "    count = 0\n",
    "    eachMVPGamesPlayedList = []\n",
    "    if(eachMVP != 'James Harden'):\n",
    "        for index,row in playerStats[::-1].iterrows():\n",
    "            if(count<=9):\n",
    "                count+=1\n",
    "                if row['PTS']!='Did Not Play\\xa0(injury—achilles)':\n",
    "                    eachMVPGamesPlayedList.append(float(row['G']))\n",
    "        Last10YearsMVPsGamesPlayed.append({'player':eachMVP,'average games played':mean(eachMVPGamesPlayedList)})\n",
    "    else:\n",
    "        for index,row in playerStats[::-1][2:].iterrows():\n",
    "            if(count<=9):\n",
    "                count+=1\n",
    "                if row['PTS']!='Did Not Play\\xa0(injury—achilles)':\n",
    "                    eachMVPGamesPlayedList.append(float(row['G']))\n",
    "        Last10YearsMVPsGamesPlayed.append({'player':eachMVP,'average games played':mean(eachMVPGamesPlayedList)})        \n",
    "\n"
   ]
  },
  {
   "cell_type": "code",
   "execution_count": 31,
   "metadata": {},
   "outputs": [
    {
     "data": {
      "text/plain": [
       "[{'player': 'Nikola Jokic', 'average games played': 75.5},\n",
       " {'player': 'Giannis Antetokounmpo', 'average games played': 73.625},\n",
       " {'player': 'James Harden', 'average games played': 71.9},\n",
       " {'player': 'Russell Westbrook', 'average games played': 69.7},\n",
       " {'player': 'Stephen Curry', 'average games played': 60.8},\n",
       " {'player': 'Kevin Durant', 'average games played': 63.333333333333336},\n",
       " {'player': 'LeBron James', 'average games played': 68.3}]"
      ]
     },
     "execution_count": 31,
     "metadata": {},
     "output_type": "execute_result"
    }
   ],
   "source": [
    "Last10YearsMVPsGamesPlayed"
   ]
  },
  {
   "cell_type": "code",
   "execution_count": 32,
   "metadata": {},
   "outputs": [
    {
     "name": "stdout",
     "output_type": "stream",
     "text": [
      "                  player  average games played\n",
      "0           Nikola Jokic             75.500000\n",
      "1  Giannis Antetokounmpo             73.625000\n",
      "2           James Harden             71.900000\n",
      "3      Russell Westbrook             69.700000\n",
      "4          Stephen Curry             60.800000\n",
      "5           Kevin Durant             63.333333\n",
      "6           LeBron James             68.300000\n"
     ]
    }
   ],
   "source": [
    "import pandas as pd\n",
    "dfGamesPlayed = pd.DataFrame(Last10YearsMVPsGamesPlayed)\n",
    "print(dfGamesPlayed)"
   ]
  },
  {
   "cell_type": "markdown",
   "metadata": {},
   "source": [
    "### Plot the average games played per season by MVPs of the last 10 seasons"
   ]
  },
  {
   "cell_type": "code",
   "execution_count": 33,
   "metadata": {},
   "outputs": [
    {
     "data": {
      "text/plain": [
       "<AxesSubplot:xlabel='player'>"
      ]
     },
     "execution_count": 33,
     "metadata": {},
     "output_type": "execute_result"
    },
    {
     "data": {
      "image/png": "[encoded data removed]",
      "text/plain": [
       "<Figure size 432x288 with 1 Axes>"
      ]
     },
     "metadata": {
      "needs_background": "light"
     },
     "output_type": "display_data"
    }
   ],
   "source": [
    "dfGamesPlayed.plot.bar(x='player')"
   ]
  }
 ],
 "metadata": {
  "kernelspec": {
   "display_name": "Python 3",
   "language": "python",
   "name": "python3"
  },
  "language_info": {
   "codemirror_mode": {
    "name": "ipython",
    "version": 3
   },
   "file_extension": ".py",
   "mimetype": "text/x-python",
   "name": "python",
   "nbconvert_exporter": "python",
   "pygments_lexer": "ipython3",
   "version": "3.8.5"
  }
 },
 "nbformat": 4,
 "nbformat_minor": 4
}
