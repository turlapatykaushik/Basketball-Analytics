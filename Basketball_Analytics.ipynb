{
 "cells": [
  {
   "cell_type": "markdown",
   "metadata": {},
   "source": [
    "### Import Basketball Reference Scraper"
   ]
  },
  {
   "cell_type": "code",
   "execution_count": 1,
   "metadata": {},
   "outputs": [],
   "source": [
    "from basketball_reference_scraper.teams import get_roster, get_team_stats, get_opp_stats, get_roster_stats, get_team_misc"
   ]
  },
  {
   "cell_type": "markdown",
   "metadata": {},
   "source": [
    "### Import libraries"
   ]
  },
  {
   "cell_type": "code",
   "execution_count": 2,
   "metadata": {},
   "outputs": [],
   "source": [
    "from basketball_reference_scraper.players import get_stats, get_game_logs\n",
    "from statistics import mean"
   ]
  },
  {
   "cell_type": "markdown",
   "metadata": {},
   "source": [
    "### Get a single player stats (per game)"
   ]
  },
  {
   "cell_type": "code",
   "execution_count": 3,
   "metadata": {},
   "outputs": [
    {
     "name": "stdout",
     "output_type": "stream",
     "text": [
      "You searched for \"Stephen Curry\"\n",
      "3 results found.\n",
      "0: Stephen Curry\n",
      "1: Stephen Chubin\n",
      "2: Seth Curry\n",
      "Pick one: 0\n",
      "Results for Stephen Curry:\n",
      "\n",
      "     SEASON   AGE TEAM LEAGUE POS   G  GS    MP    FG   FGA  ...    FT%  ORB  \\\n",
      "0   2009-10  21.0  GSW    NBA  PG  80  77  36.2   6.6  14.3  ...  0.885  0.6   \n",
      "1   2010-11  22.0  GSW    NBA  PG  74  74  33.6   6.8  14.2  ...  0.934  0.7   \n",
      "2   2011-12  23.0  GSW    NBA  PG  26  23  28.2   5.6  11.4  ...  0.809  0.6   \n",
      "3   2012-13  24.0  GSW    NBA  PG  78  78  38.2   8.0  17.8  ...  0.900  0.8   \n",
      "4   2013-14  25.0  GSW    NBA  PG  78  78  36.5   8.4  17.7  ...  0.885  0.6   \n",
      "5   2014-15  26.0  GSW    NBA  PG  80  80  32.7   8.2  16.8  ...  0.914  0.7   \n",
      "6   2015-16  27.0  GSW    NBA  PG  79  79  34.2  10.2  20.2  ...  0.908  0.9   \n",
      "7   2016-17  28.0  GSW    NBA  PG  79  79  33.4   8.5  18.3  ...  0.898  0.8   \n",
      "8   2017-18  29.0  GSW    NBA  PG  51  51  32.0   8.4  16.9  ...  0.921  0.7   \n",
      "9   2018-19  30.0  GSW    NBA  PG  69  69  33.8   9.2  19.4  ...  0.916  0.7   \n",
      "10  2019-20  31.0  GSW    NBA  PG   5   5  27.8   6.6  16.4  ...  1.000  0.8   \n",
      "11  2020-21  32.0  GSW    NBA  PG  63  63  34.2  10.4  21.7  ...  0.916  0.5   \n",
      "\n",
      "    DRB  TRB  AST  STL  BLK  TOV   PF   PTS  \n",
      "0   3.9  4.5  5.9  1.9  0.2  3.0  3.2  17.5  \n",
      "1   3.2  3.9  5.8  1.5  0.3  3.1  3.1  18.6  \n",
      "2   2.8  3.4  5.3  1.5  0.3  2.5  2.4  14.7  \n",
      "3   3.3  4.0  6.9  1.6  0.2  3.1  2.5  22.9  \n",
      "4   3.7  4.3  8.5  1.6  0.2  3.8  2.5  24.0  \n",
      "5   3.6  4.3  7.7  2.0  0.2  3.1  2.0  23.8  \n",
      "6   4.6  5.4  6.7  2.1  0.2  3.3  2.0  30.1  \n",
      "7   3.7  4.5  6.6  1.8  0.2  3.0  2.3  25.3  \n",
      "8   4.4  5.1  6.1  1.6  0.2  3.0  2.2  26.4  \n",
      "9   4.7  5.3  5.2  1.3  0.4  2.8  2.4  27.3  \n",
      "10  4.4  5.2  6.6  1.0  0.4  3.2  2.2  20.8  \n",
      "11  5.0  5.5  5.8  1.2  0.1  3.4  1.9  32.0  \n",
      "\n",
      "[12 rows x 30 columns]\n"
     ]
    }
   ],
   "source": [
    "playerStats = get_stats('Stephen Curry', stat_type='PER_GAME', playoffs=False, career=False)\n",
    "print(playerStats)"
   ]
  },
  {
   "cell_type": "markdown",
   "metadata": {},
   "source": [
    "### Get Points data for the MVPs of the last 10 seasons"
   ]
  },
  {
   "cell_type": "code",
   "execution_count": 10,
   "metadata": {},
   "outputs": [
    {
     "name": "stdout",
     "output_type": "stream",
     "text": [
      "You searched for \"Nikola Jokic\"\n",
      "3 results found.\n",
      "0: Nikola Jokic\n",
      "1: Nikola Mirotic\n",
      "2: Nikola Pekovic\n",
      "Pick one: 0\n",
      "Results for Nikola Jokic:\n",
      "\n",
      "You searched for \"Giannis Antetokounmpo\"\n",
      "2 results found.\n",
      "0: Giannis Antetokounmpo\n",
      "1: Thanasis Antetokounmpo\n",
      "Pick one: 0\n",
      "Results for Giannis Antetokounmpo:\n",
      "\n",
      "You searched for \"James Harden\"\n",
      "11 results found.\n",
      "0: James Harden\n",
      "1: James Hardy\n",
      "2: James Bailey\n",
      "3: Jimmy Darden\n",
      "4: Jared Harper\n",
      "5: James Edwards\n",
      "6: James Lang\n",
      "7: James Phelan\n",
      "8: James Ennis\n",
      "9: Jaylen Hoard\n",
      "10: James Thomas\n",
      "Pick one: 0\n",
      "Results for James Harden:\n",
      "\n",
      "You searched for \"Russell Westbrook\"\n",
      "1 result found.\n",
      "Russell Westbrook\n",
      "Results for Russell Westbrook:\n",
      "\n",
      "You searched for \"Stephen Curry\"\n",
      "3 results found.\n",
      "0: Stephen Curry\n",
      "1: Stephen Chubin\n",
      "2: Seth Curry\n",
      "Pick one: 0\n",
      "Results for Stephen Curry:\n",
      "\n",
      "You searched for \"Kevin Durant\"\n",
      "5 results found.\n",
      "0: Kevin Durant\n",
      "1: Devin Durrant\n",
      "2: Kevin Murphy\n",
      "3: Ken Durrett\n",
      "4: Kevin Martin\n",
      "Pick one: 0\n",
      "Results for Kevin Durant:\n",
      "\n",
      "You searched for \"LeBron James\"\n",
      "5 results found.\n",
      "0: LeBron James\n",
      "1: Aaron James\n",
      "2: Damion James\n",
      "3: Henry James\n",
      "4: Jerome James\n",
      "Pick one: 0\n",
      "Results for LeBron James:\n",
      "\n"
     ]
    }
   ],
   "source": [
    "Last10YearsMVPs = ['Nikola Jokic','Giannis Antetokounmpo', 'James Harden', 'Russell Westbrook', 'Stephen Curry', 'Kevin Durant', 'LeBron James']\n",
    "Last10YearsMVPsAvgPoints=[]\n",
    "for eachMVP in Last10YearsMVPs:\n",
    "    playerStats = get_stats(eachMVP, stat_type='PER_GAME', playoffs=False, career=False)\n",
    "    count = 0\n",
    "    eachMVPPointsList = []\n",
    "    for index,row in playerStats[::-1].iterrows():\n",
    "        if(count<=9):\n",
    "            count+=1\n",
    "            if row['PTS']!='Did Not Play\\xa0(injury—achilles)':\n",
    "                eachMVPPointsList.append(float(row['PTS']))\n",
    "    Last10YearsMVPsAvgPoints.append({'player':eachMVP, 'average points':mean(eachMVPPointsList)})"
   ]
  },
  {
   "cell_type": "code",
   "execution_count": 11,
   "metadata": {},
   "outputs": [
    {
     "data": {
      "text/plain": [
       "[{'player': 'Nikola Jokic', 'average points': 18.6},\n",
       " {'player': 'Giannis Antetokounmpo', 'average points': 21.4375},\n",
       " {'player': 'James Harden', 'average points': 28.57},\n",
       " {'player': 'Russell Westbrook', 'average points': 24.95},\n",
       " {'player': 'Stephen Curry', 'average points': 24.73},\n",
       " {'player': 'Kevin Durant', 'average points': 27.344444444444445},\n",
       " {'player': 'LeBron James', 'average points': 26.32}]"
      ]
     },
     "execution_count": 11,
     "metadata": {},
     "output_type": "execute_result"
    }
   ],
   "source": [
    "Last10YearsMVPsAvgPoints"
   ]
  },
  {
   "cell_type": "code",
   "execution_count": 29,
   "metadata": {},
   "outputs": [
    {
     "name": "stdout",
     "output_type": "stream",
     "text": [
      "                  player  average points\n",
      "0           Nikola Jokic       18.600000\n",
      "1  Giannis Antetokounmpo       21.437500\n",
      "2           James Harden       28.570000\n",
      "3      Russell Westbrook       24.950000\n",
      "4          Stephen Curry       24.730000\n",
      "5           Kevin Durant       27.344444\n",
      "6           LeBron James       26.320000\n"
     ]
    }
   ],
   "source": [
    "import pandas as pd\n",
    "dfPoints = pd.DataFrame(Last10YearsMVPsAvgPoints)\n",
    "print(dfPoints)"
   ]
  },
  {
   "cell_type": "markdown",
   "metadata": {},
   "source": [
    "### Get Rebounds data for the MVPs of the last 10 seasons"
   ]
  },
  {
   "cell_type": "code",
   "execution_count": 14,
   "metadata": {},
   "outputs": [
    {
     "name": "stdout",
     "output_type": "stream",
     "text": [
      "You searched for \"Nikola Jokic\"\n",
      "3 results found.\n",
      "0: Nikola Jokic\n",
      "1: Nikola Mirotic\n",
      "2: Nikola Pekovic\n",
      "Pick one: 0\n",
      "Results for Nikola Jokic:\n",
      "\n",
      "You searched for \"Giannis Antetokounmpo\"\n",
      "2 results found.\n",
      "0: Giannis Antetokounmpo\n",
      "1: Thanasis Antetokounmpo\n",
      "Pick one: 0\n",
      "Results for Giannis Antetokounmpo:\n",
      "\n",
      "You searched for \"James Harden\"\n",
      "11 results found.\n",
      "0: James Harden\n",
      "1: James Hardy\n",
      "2: James Bailey\n",
      "3: Jimmy Darden\n",
      "4: Jared Harper\n",
      "5: James Edwards\n",
      "6: James Lang\n",
      "7: James Phelan\n",
      "8: James Ennis\n",
      "9: Jaylen Hoard\n",
      "10: James Thomas\n",
      "Pick one: 0\n",
      "Results for James Harden:\n",
      "\n",
      "You searched for \"Russell Westbrook\"\n",
      "1 result found.\n",
      "Russell Westbrook\n",
      "Results for Russell Westbrook:\n",
      "\n",
      "You searched for \"Stephen Curry\"\n",
      "3 results found.\n",
      "0: Stephen Curry\n",
      "1: Stephen Chubin\n",
      "2: Seth Curry\n",
      "Pick one: 0\n",
      "Results for Stephen Curry:\n",
      "\n",
      "You searched for \"Kevin Durant\"\n",
      "5 results found.\n",
      "0: Kevin Durant\n",
      "1: Devin Durrant\n",
      "2: Kevin Murphy\n",
      "3: Ken Durrett\n",
      "4: Kevin Martin\n",
      "Pick one: 0\n",
      "Results for Kevin Durant:\n",
      "\n",
      "You searched for \"LeBron James\"\n",
      "5 results found.\n",
      "0: LeBron James\n",
      "1: Aaron James\n",
      "2: Damion James\n",
      "3: Henry James\n",
      "4: Jerome James\n",
      "Pick one: 0\n",
      "Results for LeBron James:\n",
      "\n"
     ]
    }
   ],
   "source": [
    "Last10YearsMVPs = ['Nikola Jokic','Giannis Antetokounmpo', 'James Harden', 'Russell Westbrook', 'Stephen Curry', 'Kevin Durant', 'LeBron James']\n",
    "Last10YearsMVPsAvgRebounds=[]\n",
    "for eachMVP in Last10YearsMVPs:\n",
    "    playerStats = get_stats(eachMVP, stat_type='PER_GAME', playoffs=False, career=False)\n",
    "    count = 0\n",
    "    eachMVPReboundsList = []\n",
    "    for index,row in playerStats[::-1].iterrows():\n",
    "        if(count<=9):\n",
    "            count+=1\n",
    "            if row['PTS']!='Did Not Play\\xa0(injury—achilles)':\n",
    "                eachMVPReboundsList.append(float(row['TRB']))\n",
    "    Last10YearsMVPsAvgRebounds.append({'player':eachMVP,'average rebounds': mean(eachMVPReboundsList)})"
   ]
  },
  {
   "cell_type": "code",
   "execution_count": 15,
   "metadata": {},
   "outputs": [
    {
     "data": {
      "text/plain": [
       "[{'player': 'Nikola Jokic', 'average rebounds': 9.8},\n",
       " {'player': 'Giannis Antetokounmpo', 'average rebounds': 9.3375},\n",
       " {'player': 'James Harden', 'average rebounds': 6.47},\n",
       " {'player': 'Russell Westbrook', 'average rebounds': 8.19},\n",
       " {'player': 'Stephen Curry', 'average rebounds': 4.7},\n",
       " {'player': 'Kevin Durant', 'average rebounds': 7.411111111111111},\n",
       " {'player': 'LeBron James', 'average rebounds': 7.74}]"
      ]
     },
     "execution_count": 15,
     "metadata": {},
     "output_type": "execute_result"
    }
   ],
   "source": [
    "Last10YearsMVPsAvgRebounds"
   ]
  },
  {
   "cell_type": "code",
   "execution_count": 30,
   "metadata": {},
   "outputs": [
    {
     "name": "stdout",
     "output_type": "stream",
     "text": [
      "                  player  average rebounds\n",
      "0           Nikola Jokic          9.800000\n",
      "1  Giannis Antetokounmpo          9.337500\n",
      "2           James Harden          6.470000\n",
      "3      Russell Westbrook          8.190000\n",
      "4          Stephen Curry          4.700000\n",
      "5           Kevin Durant          7.411111\n",
      "6           LeBron James          7.740000\n"
     ]
    }
   ],
   "source": [
    "import pandas as pd\n",
    "dfRebounds = pd.DataFrame(Last10YearsMVPsAvgRebounds)\n",
    "print(dfRebounds)"
   ]
  },
  {
   "cell_type": "markdown",
   "metadata": {},
   "source": [
    "### Get Assists data for the MVPs of the last 10 seasons"
   ]
  },
  {
   "cell_type": "code",
   "execution_count": 16,
   "metadata": {},
   "outputs": [
    {
     "name": "stdout",
     "output_type": "stream",
     "text": [
      "You searched for \"Nikola Jokic\"\n",
      "3 results found.\n",
      "0: Nikola Jokic\n",
      "1: Nikola Mirotic\n",
      "2: Nikola Pekovic\n",
      "Pick one: 0\n",
      "Results for Nikola Jokic:\n",
      "\n",
      "You searched for \"Giannis Antetokounmpo\"\n",
      "2 results found.\n",
      "0: Giannis Antetokounmpo\n",
      "1: Thanasis Antetokounmpo\n",
      "Pick one: 0\n",
      "Results for Giannis Antetokounmpo:\n",
      "\n",
      "You searched for \"James Harden\"\n",
      "11 results found.\n",
      "0: James Harden\n",
      "1: James Hardy\n",
      "2: James Bailey\n",
      "3: Jimmy Darden\n",
      "4: Jared Harper\n",
      "5: James Edwards\n",
      "6: James Lang\n",
      "7: James Phelan\n",
      "8: James Ennis\n",
      "9: Jaylen Hoard\n",
      "10: James Thomas\n",
      "Pick one: 0\n",
      "Results for James Harden:\n",
      "\n",
      "You searched for \"Russell Westbrook\"\n",
      "1 result found.\n",
      "Russell Westbrook\n",
      "Results for Russell Westbrook:\n",
      "\n",
      "You searched for \"Stephen Curry\"\n",
      "3 results found.\n",
      "0: Stephen Curry\n",
      "1: Stephen Chubin\n",
      "2: Seth Curry\n",
      "Pick one: 0\n",
      "Results for Stephen Curry:\n",
      "\n",
      "You searched for \"Kevin Durant\"\n",
      "5 results found.\n",
      "0: Kevin Durant\n",
      "1: Devin Durrant\n",
      "2: Kevin Murphy\n",
      "3: Ken Durrett\n",
      "4: Kevin Martin\n",
      "Pick one: 0\n",
      "Results for Kevin Durant:\n",
      "\n",
      "You searched for \"LeBron James\"\n",
      "5 results found.\n",
      "0: LeBron James\n",
      "1: Aaron James\n",
      "2: Damion James\n",
      "3: Henry James\n",
      "4: Jerome James\n",
      "Pick one: 0\n",
      "Results for LeBron James:\n",
      "\n"
     ]
    }
   ],
   "source": [
    "Last10YearsMVPs = ['Nikola Jokic','Giannis Antetokounmpo', 'James Harden', 'Russell Westbrook', 'Stephen Curry', 'Kevin Durant', 'LeBron James']\n",
    "Last10YearsMVPsAvgAssists=[]\n",
    "for eachMVP in Last10YearsMVPs:\n",
    "    playerStats = get_stats(eachMVP, stat_type='PER_GAME', playoffs=False, career=False)\n",
    "    count = 0\n",
    "    eachMVPAssistsList = []\n",
    "    for index,row in playerStats[::-1].iterrows():\n",
    "        if(count<=9):\n",
    "            count+=1\n",
    "            if row['PTS']!='Did Not Play\\xa0(injury—achilles)':\n",
    "                eachMVPAssistsList.append(float(row['AST']))\n",
    "    Last10YearsMVPsAvgAssists.append({'player':eachMVP,'average assists':mean(eachMVPAssistsList)})"
   ]
  },
  {
   "cell_type": "code",
   "execution_count": 17,
   "metadata": {},
   "outputs": [
    {
     "data": {
      "text/plain": [
       "[{'player': 'Nikola Jokic', 'average assists': 6.0},\n",
       " {'player': 'Giannis Antetokounmpo', 'average assists': 4.55},\n",
       " {'player': 'James Harden', 'average assists': 8.77},\n",
       " {'player': 'Russell Westbrook', 'average assists': 8.89},\n",
       " {'player': 'Stephen Curry', 'average assists': 6.54},\n",
       " {'player': 'Kevin Durant', 'average assists': 4.933333333333334},\n",
       " {'player': 'LeBron James', 'average assists': 7.81}]"
      ]
     },
     "execution_count": 17,
     "metadata": {},
     "output_type": "execute_result"
    }
   ],
   "source": [
    "Last10YearsMVPsAvgAssists"
   ]
  },
  {
   "cell_type": "code",
   "execution_count": 24,
   "metadata": {},
   "outputs": [
    {
     "name": "stdout",
     "output_type": "stream",
     "text": [
      "                  player  average assists\n",
      "0           Nikola Jokic         6.000000\n",
      "1  Giannis Antetokounmpo         4.550000\n",
      "2           James Harden         8.770000\n",
      "3      Russell Westbrook         8.890000\n",
      "4          Stephen Curry         6.540000\n",
      "5           Kevin Durant         4.933333\n",
      "6           LeBron James         7.810000\n"
     ]
    }
   ],
   "source": [
    "import pandas as pd\n",
    "dfAssists = pd.DataFrame(Last10YearsMVPsAvgAssists)\n",
    "print(dfAssists)"
   ]
  },
  {
   "cell_type": "code",
   "execution_count": 32,
   "metadata": {},
   "outputs": [
    {
     "data": {
      "text/html": [
       "<div>\n",
       "<style scoped>\n",
       "    .dataframe tbody tr th:only-of-type {\n",
       "        vertical-align: middle;\n",
       "    }\n",
       "\n",
       "    .dataframe tbody tr th {\n",
       "        vertical-align: top;\n",
       "    }\n",
       "\n",
       "    .dataframe thead th {\n",
       "        text-align: right;\n",
       "    }\n",
       "</style>\n",
       "<table border=\"1\" class=\"dataframe\">\n",
       "  <thead>\n",
       "    <tr style=\"text-align: right;\">\n",
       "      <th></th>\n",
       "      <th>player</th>\n",
       "      <th>average points</th>\n",
       "      <th>average rebounds</th>\n",
       "      <th>average assists</th>\n",
       "    </tr>\n",
       "  </thead>\n",
       "  <tbody>\n",
       "    <tr>\n",
       "      <th>0</th>\n",
       "      <td>Nikola Jokic</td>\n",
       "      <td>18.600000</td>\n",
       "      <td>9.800000</td>\n",
       "      <td>6.000000</td>\n",
       "    </tr>\n",
       "    <tr>\n",
       "      <th>1</th>\n",
       "      <td>Giannis Antetokounmpo</td>\n",
       "      <td>21.437500</td>\n",
       "      <td>9.337500</td>\n",
       "      <td>4.550000</td>\n",
       "    </tr>\n",
       "    <tr>\n",
       "      <th>2</th>\n",
       "      <td>James Harden</td>\n",
       "      <td>28.570000</td>\n",
       "      <td>6.470000</td>\n",
       "      <td>8.770000</td>\n",
       "    </tr>\n",
       "    <tr>\n",
       "      <th>3</th>\n",
       "      <td>Russell Westbrook</td>\n",
       "      <td>24.950000</td>\n",
       "      <td>8.190000</td>\n",
       "      <td>8.890000</td>\n",
       "    </tr>\n",
       "    <tr>\n",
       "      <th>4</th>\n",
       "      <td>Stephen Curry</td>\n",
       "      <td>24.730000</td>\n",
       "      <td>4.700000</td>\n",
       "      <td>6.540000</td>\n",
       "    </tr>\n",
       "    <tr>\n",
       "      <th>5</th>\n",
       "      <td>Kevin Durant</td>\n",
       "      <td>27.344444</td>\n",
       "      <td>7.411111</td>\n",
       "      <td>4.933333</td>\n",
       "    </tr>\n",
       "    <tr>\n",
       "      <th>6</th>\n",
       "      <td>LeBron James</td>\n",
       "      <td>26.320000</td>\n",
       "      <td>7.740000</td>\n",
       "      <td>7.810000</td>\n",
       "    </tr>\n",
       "  </tbody>\n",
       "</table>\n",
       "</div>"
      ],
      "text/plain": [
       "                  player  average points  average rebounds  average assists\n",
       "0           Nikola Jokic       18.600000          9.800000         6.000000\n",
       "1  Giannis Antetokounmpo       21.437500          9.337500         4.550000\n",
       "2           James Harden       28.570000          6.470000         8.770000\n",
       "3      Russell Westbrook       24.950000          8.190000         8.890000\n",
       "4          Stephen Curry       24.730000          4.700000         6.540000\n",
       "5           Kevin Durant       27.344444          7.411111         4.933333\n",
       "6           LeBron James       26.320000          7.740000         7.810000"
      ]
     },
     "execution_count": 32,
     "metadata": {},
     "output_type": "execute_result"
    }
   ],
   "source": [
    "merged_df = pd.merge(dfPoints, dfRebounds, on=\"player\")\n",
    "#merged_df\n",
    "final_df = pd.merge(merged_df, dfAssists, on=\"player\")\n",
    "final_df"
   ]
  },
  {
   "cell_type": "code",
   "execution_count": 48,
   "metadata": {},
   "outputs": [
    {
     "data": {
      "text/plain": [
       "<AxesSubplot:xlabel='player'>"
      ]
     },
     "execution_count": 48,
     "metadata": {},
     "output_type": "execute_result"
    },
    {
     "data": {
      "image/png": "[encoded data removed]",
      "text/plain": [
       "<Figure size 432x288 with 1 Axes>"
      ]
     },
     "metadata": {
      "needs_background": "light"
     },
     "output_type": "display_data"
    }
   ],
   "source": [
    "final_df.plot.bar(x='player')"
   ]
  }
 ],
 "metadata": {
  "kernelspec": {
   "display_name": "Python 3",
   "language": "python",
   "name": "python3"
  },
  "language_info": {
   "codemirror_mode": {
    "name": "ipython",
    "version": 3
   },
   "file_extension": ".py",
   "mimetype": "text/x-python",
   "name": "python",
   "nbconvert_exporter": "python",
   "pygments_lexer": "ipython3",
   "version": "3.8.5"
  }
 },
 "nbformat": 4,
 "nbformat_minor": 4
}
